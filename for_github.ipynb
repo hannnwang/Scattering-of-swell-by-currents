{
 "cells": [
  {
   "cell_type": "markdown",
   "metadata": {},
   "source": [
    "Scattering of swell by currents\n",
    "\n",
    "In this notebook, we compute the wave action spectrum and significant wave height resulting from interactions between a swell-like incoming wave with a localized current, using the matched asymptotics approach described in the paper."
   ]
  },
  {
   "cell_type": "code",
   "execution_count": 1,
   "metadata": {
    "tags": [
     "hidecell"
    ]
   },
   "outputs": [],
   "source": [
    "import numpy as np\n",
    "import colorcet as cc\n",
    "import matplotlib.pyplot as plt\n",
    "import sympy \n",
    "from scipy import integrate\n",
    "from IPython.display import Markdown, display\n",
    "\n",
    "def round_to_sig_figs(x, sig_figs):\n",
    "    if x == 0:\n",
    "        return 0\n",
    "    else:\n",
    "        return round(x, sig_figs - int(sympy.floor(sympy.log(abs(x), 10))) - 1)\n",
    "\n",
    "def round_expr(expr, num_digits):\n",
    "    if expr.is_Number:\n",
    "        return round_to_sig_figs(expr, num_digits)\n",
    "    elif expr.is_Symbol:\n",
    "        return expr\n",
    "    else:\n",
    "        return expr.func(*[round_expr(arg, num_digits) for arg in expr.args])\n",
    "    \n",
    "pi=np.pi"
   ]
  },
  {
   "cell_type": "code",
   "execution_count": 2,
   "metadata": {},
   "outputs": [],
   "source": [
    "#Grid in theta, the polar angle of wavenumebrs. \n",
    "#You may need to increase Ntheta if the wave action spectra is more narrow-banded than the default setting.\n",
    "Ntheta = 64 \n",
    "theta = np.linspace(-pi/2,pi/2,Ntheta)\n",
    "dtheta = theta[1]-theta[0]\n",
    "\n",
    "#Grid in x,y, the locations in real space\n",
    "rv = 25000 #radius of scattering region, where vorticity is significant. \n",
    "Nx = 201\n",
    "x1d = np.linspace(-10,30,Nx)*rv \n",
    "Ny = 161\n",
    "y1d = np.linspace(-16,16,Ny)*rv\n",
    "x2d, y2d = np.meshgrid(x1d,y1d)\n",
    "x2d = np.transpose(x2d) #Make indexing intuitive, i.e. F[i,j] would mean we want q1 at the ith and q2 at the jth.\n",
    "y2d = np.transpose(y2d)"
   ]
  },
  {
   "cell_type": "markdown",
   "metadata": {},
   "source": [
    "### Define the current vorticity Z\n",
    "\n",
    "The matched asymptotics approach requires that $Z$ is negligible outside the radius $r_v$, which can be checked visually in the figure generated below. In the default setup here, we define $Z$ as the Gaussian vortex with $U_m=0.8\\ \\text{m/s}$.\n",
    "\n",
    "You can vary parameters such as $U_m$ or $r_v$ to get a different Gaussian vortex, or you can change the form of Z completely. "
   ]
  },
  {
   "cell_type": "code",
   "execution_count": 3,
   "metadata": {},
   "outputs": [],
   "source": [
    "# Define parameters for Gaussian vortex\n",
    "Um = 0.8 #maximum velocity for the Gaussian vortex\n",
    "# Define symbols\n",
    "x, y, x1 = sympy.symbols('x y x1')\n",
    "# Compute circulation for Gaussian vortex\n",
    "Kappa = Um*rv/0.072 \n",
    "# Define vorticity\n",
    "Z = Kappa/(2*pi*rv**2)*sympy.exp(-sympy.sqrt(x**2+y**2)**2/(2*rv**2))"
   ]
  },
  {
   "cell_type": "code",
   "execution_count": 4,
   "metadata": {
    "tags": []
   },
   "outputs": [
    {
     "data": {
      "text/markdown": [
       "<span style=\"font-size: 15px;\">The expression for vorticity is $Z=7.07 \\cdot 10^{-5} e^{- 8.0 \\cdot 10^{-10} x^{2} - 8.0 \\cdot 10^{-10} y^{2}}$.</span>"
      ],
      "text/plain": [
       "<IPython.core.display.Markdown object>"
      ]
     },
     "metadata": {},
     "output_type": "display_data"
    },
    {
     "data": {
      "image/png": "[encoded data removed]",
      "text/plain": [
       "<Figure size 432x288 with 2 Axes>"
      ]
     },
     "metadata": {
      "needs_background": "light"
     },
     "output_type": "display_data"
    }
   ],
   "source": [
    "# Display the expression for vorticity\n",
    "rounded_Z = round_expr(Z, 3)\n",
    "font_size = 15\n",
    "display(Markdown(f'<span style=\"font-size: {font_size}px;\">The expression for vorticity is $Z={sympy.latex(rounded_Z)}$.</span>'))\n",
    "\n",
    "#Plot Z to visually check that the vorticity is localized within rv\n",
    "Zlamb = sympy.lambdify((x,y),Z, 'numpy')\n",
    "figZ,axZ = plt.subplots()\n",
    "#figZ.set_dpi(256)\n",
    "imZ = axZ.contourf(x1d/rv,y1d/rv,np.transpose(Zlamb(x2d,y2d)),100,cmap = cc.cm.gwv)\n",
    "vortradius = plt.Circle((0, 0), 1,edgecolor = '#221D1D', linestyle = '--',linewidth = 0.5,fill = False)\n",
    "axZ.add_patch(vortradius)\n",
    "axZ.set_aspect('equal')\n",
    "figZ.suptitle('Vorticity: please check if it is localised within the dashed circle')\n",
    "axZ.set_ylabel(r'y/$r_{\\mathit{v}}$')\n",
    "axZ.set_xlabel(r'x/$r_{\\mathit{v}}$')\n",
    "cbar = plt.colorbar(imZ)\n",
    "cbar.set_label(r'$s^{-1}$')"
   ]
  },
  {
   "cell_type": "markdown",
   "metadata": {},
   "source": [
    "### Define the directional dependence $D_{\\star}(\\theta)$\n",
    "\n",
    "In the default form, $D_{\\star}(\\theta)$ is a Gaussian, consistent with the Longuet-Higgins et al. (\"LHCS\") model at large $s$. You can uncomment the line after the present definition of $D$ in the code, in order to define $D_{\\star}(\\theta)$ as the higher power of a cosine function, which agrees strictly with the LHCS definition. The resulting wave action spectra and significant wave height should not change significantly as long as $s$ is reasonably large (at, say, $s=10$, which is about the bare minimum for swells under the LHCS model.)\n",
    "\n",
    "You can play with different values of $s$ to see how the significant wave height changes accordingly. As explained in the paper, you should be able to see the emergence of caustics at very large $s$. Please note that if you take $s$ to be very large (say, $s=10000$), in order to resolve the angular dependence, you may need to refine the grid in the wavenumber angle $\\theta$ by increasing \"Ntheta\". Please note that smaller $s$ leads to larger directional spreading $\\delta$, which would deviate more from the assumption of small $\\delta$ made in the matched asymptotics apporach.\n",
    "\n",
    "You can also try different forms of $D_{\\star}(\\theta)$. Similar to the LHCS case, the more narrow-banded it is in $\\theta$, the better it would satisfy the assumption of small directional spreading; however, if it's too narrow-banded, you may need to increase \"Ntheta\". \n",
    "\n",
    "We do not need to prescribe the wavenumber dependence $F_{\\star}(k)$ here, as the wavenumber dependence is constructed to normalize to $1$ after integration over $k$, and doesn't affect the overall magnitudes of wave action after integration over $k$. "
   ]
  },
  {
   "cell_type": "code",
   "execution_count": 5,
   "metadata": {},
   "outputs": [],
   "source": [
    "# Wave action spectrum\n",
    "# Customizable parameters\n",
    "s = 40 # Parameter in the LHCS model. Larger s leads to narrower directional spreading.\n",
    "theta_p = 0 # Peak of the wavenumber angle\n",
    "fp = 1/10.3 # Peak frequency (unit 1/s); note that it is not angular frequency, but 1/period.\n",
    "g = 9.806 # Gravitational acceleration\n",
    "\n",
    "# Angular dependence of wave action\n",
    "D = lambda theta: np.exp(-s*(theta-theta_p)**2/4)\n",
    "# D = lambda theta: np.cos((theta-theta_p)/2)**(2*s)"
   ]
  },
  {
   "cell_type": "markdown",
   "metadata": {},
   "source": [
    "### Compute the matched asymptotics solution of wave action\n",
    "\n",
    "In the following code cell, we compute the matched asymptotics solution of wave action and plot the integrated wave action spectrum $\\int A(x,y,k,\\theta)dk$ at different locations in $x$. \n",
    "\n",
    "As explained in the paper, the changes in wave action with respect to the incoming waves can be explained by the ray curvature deflection induced by the current vorticity. In the computation, we will evaluate these two integrations, which reflect cumulative ray curvature deflections, and show up in the matched asymptotics expressions in the paper:\n",
    "\n",
    "$\\Delta (y) = \\frac{1}{c_{\\star}}\\int_{-\\infty}^{\\infty} Z(x',y)\\,\\mathrm{d}x'$, \n",
    "\n",
    "and \n",
    "\n",
    "$\\Omega (x,y)= \\frac{1}{c_{\\star}}\\int_{-\\infty}^{x} Z(x',y)\\,\\mathrm{d}x'$.\n",
    "\n",
    "If you set the variable \"integrable\" as 1, the code will (attempt to) compute the integrations $\\Delta(y)$ and $\\Omega (x,y)$ symbolically using the sympy package. The code may crash if analytical expressions for them don't exist, or are hard to find. \n",
    "\n",
    "In that case, you should set the variable \"integrable\" as 0. The code will then evaluate the integrations numerically. The downside of this is that the code may then take a long time to run, as the integration will be evaluated at every point in $x,y,\\theta$ in this code. "
   ]
  },
  {
   "cell_type": "code",
   "execution_count": 6,
   "metadata": {
    "scrolled": true
   },
   "outputs": [],
   "source": [
    "integrable = 1 # Set to be 1 if Z is integrable and both deflection terms (introduced in the markdown cell above) have analytic expressions. Otherwise, set to be 0.\n",
    "    #Note that analytic expressions are integrated through sympy here. Sympy might not always be able to integrate even if theoretically the analytical expressions exist. In that case, you'd set integrable=0.)\n"
   ]
  },
  {
   "cell_type": "code",
   "execution_count": 7,
   "metadata": {
    "tags": [
     "hidecell"
    ]
   },
   "outputs": [
    {
     "data": {
      "text/markdown": [
       "<span style=\"font-size: 15px;\">The analytic expression for deflection is $\\Delta=0.311 \\pi^{0.5} e^{- 8.0 \\cdot 10^{-10} y^{2}}$.</span>"
      ],
      "text/plain": [
       "<IPython.core.display.Markdown object>"
      ]
     },
     "metadata": {},
     "output_type": "display_data"
    },
    {
     "data": {
      "image/png": "[encoded data removed]",
      "text/plain": [
       "<Figure size 432x288 with 4 Axes>"
      ]
     },
     "metadata": {
      "needs_background": "light"
     },
     "output_type": "display_data"
    }
   ],
   "source": [
    "kp = (2*pi*fp)**2/g #peak of wavenumber magnitude\n",
    "cpinv = (np.sqrt(g*kp)/kp)**(-1)*2#c_*^{-1}, inverse of group velocity corresponding to peak wavenumber\n",
    "if integrable == 1: #Compute the deflection terms using symbolic operator \n",
    "    Deltasp = sympy.integrate(Z, (x, -sympy.oo, sympy.oo)) * cpinv\n",
    "    Omegasp=sympy.integrate(Z,(x,-sympy.oo,x1))*cpinv\n",
    "    Delta = sympy.lambdify(y, Deltasp, 'numpy')\n",
    "    Omega = sympy.lambdify((x1, y), Omegasp, 'numpy') \n",
    "elif integrable == 0: #Compute the deflection terms using numerical integration (quadrature). \n",
    "    #Note that we take 10*rv as infinity in the integration limits, which is a good approximation provided that the vorticity indeed decays quickly outside rv. \n",
    "    #This method is likely to be significantly slower than the symbolic operator, as it has to do the integration at every inquiry point.\n",
    "    Delta = lambda y : integrate.quad(Zlamb,-10*rv,10*rv,args=(y,))[0]*cpinv  \n",
    "    Omega = lambda x,y : integrate.quad(Zlamb,-10*rv,x,args=(y,))[0]*cpinv  \n",
    "else:\n",
    "    raise ValueError('Please specify if the vorticity is integrable by setting \"integrable\" as either 1 or 0.')\n",
    "# Define incoming wave action integrated over k. \n",
    "A_in = lambda theta: D(theta)\n",
    "\n",
    "# Mathced aymptotics solution of wave action \n",
    "A_uniform = lambda x,y,Theta: A_in(Theta-Omega(x,y-x*Theta))\n",
    "\n",
    "#Display the expression of deflection\n",
    "if integrable == 1:\n",
    "    rounded_Delta = round_expr(Deltasp, 3)   \n",
    "    font_size = 15\n",
    "    display(Markdown(f'<span style=\"font-size: {font_size}px;\">The analytic expression for deflection is $\\Delta={sympy.latex(rounded_Delta)}$.</span>'))\n",
    "else:\n",
    "    display(Markdown('The deflection $\\Delta$ will be computed numerically. It may take a while to run.'))\n",
    "#Compute and plot cross sections of integrated wave action\n",
    "xslice_all = np.sort([1*rv,3*rv,5*rv])  #Locations to plot cross sections; can be modified\n",
    "nslices = len(xslice_all)\n",
    "\n",
    "figAxs,axAxs = plt.subplots(nslices)\n",
    "#figAxs.set_dpi(256)   \n",
    "islice = -1\n",
    "for xslice in xslice_all:\n",
    "    A_xslice = np.zeros([Ntheta,Ny])\n",
    "    islice = islice+1\n",
    "    \n",
    "    # Compute integrated wave action\n",
    "    for iy in np.arange(Ny):\n",
    "        for itheta in np.arange(Ntheta):\n",
    "            A_xslice[itheta,iy] = A_uniform(xslice,y1d[iy],theta[itheta])    \n",
    "    ifigtheta = np.arange(Ntheta) #Can cut ifigtheta into a smaller range, if you want less indices of theta to be shown in the figure. \n",
    "    cmapmax = np.nanmax(A_xslice)\n",
    "    cmapmin = np.nanmin(A_xslice)\n",
    "    imAxs = axAxs[islice].contourf(y1d/rv,theta[ifigtheta],(A_xslice[ifigtheta,:]),100,cmap='YlOrBr',vmax=cmapmax,vmin=cmapmin)#Checked that if not transposed, there will be bug when nq1!=nq2. \n",
    "\n",
    "    axAxs[islice].minorticks_on()\n",
    "    axAxs[islice].set_title(r'at $x/r_{\\mathit{v}}=%1.1f$' % (xslice/rv)) \n",
    "    axAxs[islice].set_ylabel(r'$\\theta$',fontsize = 15)\n",
    "    axAxs[islice].tick_params(labelbottom=False)       \n",
    "    #set aspect ratio of figure panel\n",
    "    asratio = 0.25\n",
    "    x_left, x_right = axAxs[islice].get_xlim()\n",
    "    y_low, y_high = axAxs[islice].get_ylim()\n",
    "    axAxs[islice].set_aspect(abs((x_right-x_left)/(y_low-y_high))*asratio)\n",
    "    axAxs[islice].tick_params(labelbottom=True)    \n",
    "figAxs.suptitle(r'Wave action spectra integrated over $k$')\n",
    "axAxs[islice].set_xlabel(r'y/$r_{\\mathit{v}}$')\n",
    "plt.tight_layout()\n",
    "cbar_ax = figAxs.add_axes([0.92, 0.15, 0.02, 0.7]) #Tuple (left, bottom, width, height).\n",
    "cbar_ax.set_title(r'$[\\mathrm{m}^4 \\mathrm{/s}]$')\n",
    "cbar = plt.colorbar(imAxs,cax=cbar_ax)"
   ]
  },
  {
   "cell_type": "markdown",
   "metadata": {},
   "source": [
    "In the next cell, we compute the significant wave height follwing the matched asymptotics approach. "
   ]
  },
  {
   "cell_type": "code",
   "execution_count": 8,
   "metadata": {
    "tags": [
     "hidecell"
    ]
   },
   "outputs": [
    {
     "data": {
      "image/png": "[encoded data removed]",
      "text/plain": [
       "<Figure size 432x288 with 2 Axes>"
      ]
     },
     "metadata": {
      "needs_background": "light"
     },
     "output_type": "display_data"
    }
   ],
   "source": [
    "# Significant wave height calculation\n",
    "\n",
    "# Set the average significant wave height at the undisturbed state (default is 1 meter)\n",
    "hs_ave=1\n",
    "\n",
    "# Initialize array for the square of significant wave height\n",
    "hssq = np.zeros(x2d.shape)\n",
    "\n",
    "# Compute the square of significant wave height at each grid point\n",
    "if integrable == 1:\n",
    "    for i in range(Nx):\n",
    "        for j in range(Ny):\n",
    "            # Integrate wave action over theta to get wave action spectrum at each point\n",
    "            A_at_point = A_in(theta-Delta(y1d[j]-x1d[i]*theta)*np.heaviside(x1d[i], 1))\n",
    "            # Compute the square of significant wave height at the point\n",
    "            hssq[i,j] = sum(A_at_point)*dtheta\n",
    "else:\n",
    "    #The logic is the same as the case when integrable = 1, but we have some small hacks to help save a bit of computational time\n",
    "    for i in range(Nx):\n",
    "        if x1d[i] > 0: #equivalent to np.heaviside(x1d[i], 1)\n",
    "            for j in range(Ny):\n",
    "                A_at_point=0\n",
    "                for thetai in theta:\n",
    "                    A_at_point = A_at_point+A_in(thetai-Delta(y1d[j]-x1d[i]*thetai))\n",
    "                    hssq[i,j] = A_at_point*dtheta    \n",
    "        else: \n",
    "            A_at_point = A_in(theta)\n",
    "            hssq[i,:] = sum(A_at_point)*dtheta\n",
    "\n",
    "# Compute significant wave height as the square root of the wave height squared               \n",
    "hs = np.sqrt(hssq)\n",
    "\n",
    "# Compute normalization factor to make the average significant wave height equal to hs_ave\n",
    "A_zeroZ = lambda Theta: A_in(Theta)\n",
    "hs_zeroZ = np.sqrt(sum(A_zeroZ(theta))*dtheta)\n",
    "hs = hs/hs_zeroZ*hs_ave-hs_ave \n",
    "\n",
    "# Plot significant wave height disturbance\n",
    "fighszoom,axhszoom = plt.subplots()\n",
    "#fighszoom.set_dpi(256)\n",
    "\n",
    "# Set the zoom window to focus on the region around the vortex\n",
    "ymax = 10*rv\n",
    "ymin = -10*rv\n",
    "xmax = 25*rv\n",
    "xmin = -5*rv\n",
    "# Compute the indices of the x and y coordinates that correspond to the zoom window\n",
    "ixstart = np.absolute(x1d-xmin).argmin()\n",
    "ixend = np.absolute(x1d-xmax).argmin()\n",
    "iystart = np.absolute(y1d-ymin).argmin()\n",
    "iyend = np.absolute(y1d-ymax).argmin()\n",
    "# Extract the significant wave height data within the zoom window\n",
    "hszoom = hs[ixstart:ixend,iystart:iyend]\n",
    "\n",
    "# Set the maximum and minimum values of the color map\n",
    "cmapmax = np.max([np.nanmax(hszoom*100),-np.nanmin(hszoom*100)]) \n",
    "cmapmin = -cmapmax\n",
    "# Plot the significant wave height disturbance\n",
    "imhszoom = axhszoom.contourf(x1d[ixstart:ixend]/rv,y1d[iystart:iyend]/rv,np.transpose(hszoom)*100,100,cmap=cc.cm.coolwarm,vmax=cmapmax,vmin=cmapmin)\n",
    "# Add dashed circle marking the boundary of the scattering region\n",
    "vortradius2 = plt.Circle((0, 0), 1,edgecolor = '#221D1D', linestyle = '--',linewidth = 0.5,fill = False)\n",
    "axhszoom.add_patch(vortradius2)\n",
    "# Set axis labels and aspect ratio\n",
    "axhszoom.set_ylabel(r'y/$r_{\\mathit{v}}$')\n",
    "axhszoom.set_xlabel(r'x/$r_{\\mathit{v}}$')\n",
    "axhszoom.set_aspect('equal')\n",
    "# Set minor ticks and y tick locations\n",
    "axhszoom.minorticks_on()\n",
    "axhszoom.set_yticks(ticks = [-10,-5,0,5,10])\n",
    "# Add title and colorbar\n",
    "fighszoom.suptitle('significant wave height disturbance')\n",
    "plt.tight_layout()\n",
    "cbar_ax = fighszoom.add_axes([0.95, 0.15, 0.02, 0.7])  # Tuple (left, bottom, width, height).\n",
    "cbar_ax.set_title('[cm]')\n",
    "cbar = plt.colorbar(imhszoom, cax=cbar_ax)"
   ]
  }
 ],
 "metadata": {
  "celltoolbar": "Tags",
  "kernelspec": {
   "display_name": "Python 3 (ipykernel)",
   "language": "python",
   "name": "python3"
  },
  "language_info": {
   "codemirror_mode": {
    "name": "ipython",
    "version": 3
   },
   "file_extension": ".py",
   "mimetype": "text/x-python",
   "name": "python",
   "nbconvert_exporter": "python",
   "pygments_lexer": "ipython3",
   "version": "3.9.12"
  }
 },
 "nbformat": 4,
 "nbformat_minor": 4
}
